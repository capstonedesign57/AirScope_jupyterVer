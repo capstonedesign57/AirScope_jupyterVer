{
 "cells": [
  {
   "cell_type": "markdown",
   "metadata": {},
   "source": [
    "# LSTM_4_Intent"
   ]
  },
  {
   "cell_type": "markdown",
   "metadata": {},
   "source": [
    "## load pretrained fasttext model"
   ]
  },
  {
   "cell_type": "code",
   "execution_count": 1,
   "metadata": {},
   "outputs": [
    {
     "name": "stderr",
     "output_type": "stream",
     "text": [
      "c:\\users\\yunja_kuj61s9\\appdata\\local\\programs\\python\\python36\\lib\\site-packages\\smart_open\\smart_open_lib.py:398: UserWarning: This function is deprecated, use smart_open.open instead. See the migration notes for details: https://github.com/RaRe-Technologies/smart_open/blob/master/README.rst#migrating-to-the-new-open-function\n",
      "  'See the migration notes for details: %s' % _MIGRATION_NOTES_URL\n"
     ]
    }
   ],
   "source": [
    "from gensim.models import FastText\n",
    "\n",
    "model = FastText.load('fasttext/fasttext_model')\n",
    "fasttext = model.wv"
   ]
  },
  {
   "cell_type": "code",
   "execution_count": 2,
   "metadata": {},
   "outputs": [],
   "source": [
    "import numpy as np\n",
    "import pandas as pd\n",
    "import matplotlib.pyplot as plt\n",
    "\n",
    "data = pd.read_csv('../../training_data/IntentClassifier/train_4_intent.csv')\n",
    "data = data[['tokens', 'intent']]\n",
    "\n",
    "X_data = data['tokens']\n",
    "y_data = data['intent']"
   ]
  },
  {
   "cell_type": "markdown",
   "metadata": {},
   "source": [
    "## count the number of each intent"
   ]
  },
  {
   "cell_type": "code",
   "execution_count": 3,
   "metadata": {},
   "outputs": [
    {
     "data": {
      "text/plain": [
       "AskFlight, AskFlightWithCost                          600\n",
       "AskFlight                                             600\n",
       "AskFlight, AskFlightWithAirline                       600\n",
       "AskFlight, AskFlightWithCost, AskFlightWithAirline    600\n",
       "Name: intent, dtype: int64"
      ]
     },
     "execution_count": 3,
     "metadata": {},
     "output_type": "execute_result"
    },
    {
     "data": {
      "image/png": "[encoded data removed]",
      "text/plain": [
       "<Figure size 432x288 with 1 Axes>"
      ]
     },
     "metadata": {
      "needs_background": "light"
     },
     "output_type": "display_data"
    }
   ],
   "source": [
    "%matplotlib inline\n",
    "\n",
    "pd.value_counts(data['intent']).plot.bar()\n",
    "plt.title('histogram')\n",
    "plt.xlabel('intent')\n",
    "plt.ylabel('Frequency')\n",
    "\n",
    "data['intent'].value_counts()"
   ]
  },
  {
   "cell_type": "markdown",
   "metadata": {},
   "source": [
    "## preprocessing the training data"
   ]
  },
  {
   "cell_type": "code",
   "execution_count": 4,
   "metadata": {},
   "outputs": [],
   "source": [
    "from nltk import sent_tokenize, word_tokenize\n",
    "import import_ipynb\n",
    "import intent_4 # AskFlight, AskFlight/AskFlightWithCost, AskFlight/AskFlightWithAirline\n",
    "                # AskFlight, AskFlightWithCost, AskFlightWithAirline(AskAll)\n",
    "\n",
    "tokenized_X = [] # 토큰화한 문장 (단어, 단어, 단어, ...)\n",
    "for line in X_data :\n",
    "    tokenized_X.append(word_tokenize(line))\n",
    "\n",
    "vectored_X = [] # 토큰화한 문장을 벡터로\n",
    "for sent in tokenized_X :\n",
    "    vectored_X.append([fasttext[v].tolist() for v in sent])\n",
    "\n",
    "vectored_y = []\n",
    "for index in y_data : \n",
    "    vectored_y.append(intent_4.intent(index))"
   ]
  },
  {
   "cell_type": "code",
   "execution_count": 5,
   "metadata": {},
   "outputs": [
    {
     "name": "stdout",
     "output_type": "stream",
     "text": [
      "Shape of X: (2400,)\n",
      "Shape of y: (2400,)\n"
     ]
    }
   ],
   "source": [
    "X = np.array(vectored_X)\n",
    "y = np.array(vectored_y)\n",
    "\n",
    "print('Shape of X: {}'.format(X.shape))\n",
    "print('Shape of y: {}'.format(y.shape))"
   ]
  },
  {
   "cell_type": "markdown",
   "metadata": {},
   "source": [
    "## padd all inputs to max_len(set manually to 45)"
   ]
  },
  {
   "cell_type": "code",
   "execution_count": 6,
   "metadata": {},
   "outputs": [
    {
     "name": "stderr",
     "output_type": "stream",
     "text": [
      "Using TensorFlow backend.\n"
     ]
    }
   ],
   "source": [
    "from keras.preprocessing.sequence import pad_sequences\n",
    "from keras import backend as k\n",
    "\n",
    "_dtype = k.floatx()\n",
    "max_len = 45\n",
    "data = pad_sequences(X, maxlen = max_len, dtype = _dtype)"
   ]
  },
  {
   "cell_type": "code",
   "execution_count": 7,
   "metadata": {},
   "outputs": [
    {
     "data": {
      "text/plain": [
       "45"
      ]
     },
     "execution_count": 7,
     "metadata": {},
     "output_type": "execute_result"
    }
   ],
   "source": [
    "max_len"
   ]
  },
  {
   "cell_type": "markdown",
   "metadata": {},
   "source": [
    "## split data (0.8 for training, rest for testing )"
   ]
  },
  {
   "cell_type": "code",
   "execution_count": 8,
   "metadata": {},
   "outputs": [],
   "source": [
    "n_of_train = int(len(X_data) * 0.85)\n",
    "n_of_test = int(len(X_data) - n_of_train)"
   ]
  },
  {
   "cell_type": "code",
   "execution_count": 9,
   "metadata": {
    "scrolled": true
   },
   "outputs": [
    {
     "name": "stdout",
     "output_type": "stream",
     "text": [
      "(2040, 45, 300) (2040,) (360, 45, 300) (360,)\n"
     ]
    }
   ],
   "source": [
    "X_train = data[ : n_of_train]\n",
    "y_train = y[ : n_of_train]\n",
    "X_test = data[n_of_train : ]\n",
    "y_test = y[n_of_train : ]\n",
    "\n",
    "print(X_train.shape, y_train.shape, X_test.shape, y_test.shape)"
   ]
  },
  {
   "cell_type": "markdown",
   "metadata": {},
   "source": [
    "# RNN 학습시키는 부분"
   ]
  },
  {
   "cell_type": "code",
   "execution_count": 10,
   "metadata": {
    "scrolled": false
   },
   "outputs": [
    {
     "name": "stderr",
     "output_type": "stream",
     "text": [
      "WARNING: Logging before flag parsing goes to stderr.\n",
      "W1212 15:55:38.144358 18232 deprecation_wrapper.py:119] From c:\\users\\yunja_kuj61s9\\appdata\\local\\programs\\python\\python36\\lib\\site-packages\\keras\\backend\\tensorflow_backend.py:74: The name tf.get_default_graph is deprecated. Please use tf.compat.v1.get_default_graph instead.\n",
      "\n",
      "W1212 15:55:39.388144 18232 deprecation_wrapper.py:119] From c:\\users\\yunja_kuj61s9\\appdata\\local\\programs\\python\\python36\\lib\\site-packages\\keras\\optimizers.py:790: The name tf.train.Optimizer is deprecated. Please use tf.compat.v1.train.Optimizer instead.\n",
      "\n",
      "W1212 15:55:39.461361 18232 deprecation_wrapper.py:119] From c:\\users\\yunja_kuj61s9\\appdata\\local\\programs\\python\\python36\\lib\\site-packages\\keras\\backend\\tensorflow_backend.py:517: The name tf.placeholder is deprecated. Please use tf.compat.v1.placeholder instead.\n",
      "\n",
      "W1212 15:55:39.481323 18232 deprecation_wrapper.py:119] From c:\\users\\yunja_kuj61s9\\appdata\\local\\programs\\python\\python36\\lib\\site-packages\\keras\\backend\\tensorflow_backend.py:4138: The name tf.random_uniform is deprecated. Please use tf.random.uniform instead.\n",
      "\n",
      "W1212 15:55:40.049105 18232 deprecation_wrapper.py:119] From c:\\users\\yunja_kuj61s9\\appdata\\local\\programs\\python\\python36\\lib\\site-packages\\keras\\backend\\tensorflow_backend.py:3341: The name tf.log is deprecated. Please use tf.math.log instead.\n",
      "\n",
      "W1212 15:55:40.343940 18232 deprecation.py:323] From c:\\users\\yunja_kuj61s9\\appdata\\local\\programs\\python\\python36\\lib\\site-packages\\tensorflow\\python\\ops\\math_grad.py:1250: add_dispatch_support.<locals>.wrapper (from tensorflow.python.ops.array_ops) is deprecated and will be removed in a future version.\n",
      "Instructions for updating:\n",
      "Use tf.where in 2.0, which has the same broadcast rule as np.where\n",
      "W1212 15:55:41.536056 18232 deprecation_wrapper.py:119] From c:\\users\\yunja_kuj61s9\\appdata\\local\\programs\\python\\python36\\lib\\site-packages\\keras\\backend\\tensorflow_backend.py:986: The name tf.assign_add is deprecated. Please use tf.compat.v1.assign_add instead.\n",
      "\n"
     ]
    },
    {
     "name": "stdout",
     "output_type": "stream",
     "text": [
      "Epoch 1/50\n",
      "2040/2040 [==============================] - 4s 2ms/step - loss: 1.1869 - acc: 0.4990\n",
      "Epoch 2/50\n",
      "2040/2040 [==============================] - 3s 1ms/step - loss: 0.4090 - acc: 0.8833\n",
      "Epoch 3/50\n",
      "2040/2040 [==============================] - 3s 1ms/step - loss: 0.1843 - acc: 0.9554\n",
      "Epoch 4/50\n",
      "2040/2040 [==============================] - 3s 1ms/step - loss: 0.1317 - acc: 0.9686\n",
      "Epoch 5/50\n",
      "2040/2040 [==============================] - 3s 1ms/step - loss: 0.1038 - acc: 0.9775\n",
      "Epoch 6/50\n",
      "2040/2040 [==============================] - 3s 1ms/step - loss: 0.0878 - acc: 0.9799\n",
      "Epoch 7/50\n",
      "2040/2040 [==============================] - 3s 1ms/step - loss: 0.0765 - acc: 0.9819\n",
      "Epoch 8/50\n",
      "2040/2040 [==============================] - 3s 1ms/step - loss: 0.0666 - acc: 0.9853\n",
      "Epoch 9/50\n",
      "2040/2040 [==============================] - 3s 1ms/step - loss: 0.0571 - acc: 0.9863\n",
      "Epoch 10/50\n",
      "2040/2040 [==============================] - 3s 1ms/step - loss: 0.0523 - acc: 0.9873\n",
      "Epoch 11/50\n",
      "2040/2040 [==============================] - 3s 1ms/step - loss: 0.0452 - acc: 0.9907\n",
      "Epoch 12/50\n",
      "2040/2040 [==============================] - 3s 1ms/step - loss: 0.0366 - acc: 0.9922\n",
      "Epoch 13/50\n",
      "2040/2040 [==============================] - 3s 1ms/step - loss: 0.0360 - acc: 0.9926\n",
      "Epoch 14/50\n",
      "2040/2040 [==============================] - 3s 1ms/step - loss: 0.0459 - acc: 0.9873\n",
      "Epoch 15/50\n",
      "2040/2040 [==============================] - 3s 1ms/step - loss: 0.0315 - acc: 0.9941\n",
      "Epoch 16/50\n",
      "2040/2040 [==============================] - 3s 1ms/step - loss: 0.0239 - acc: 0.9951\n",
      "Epoch 17/50\n",
      "2040/2040 [==============================] - 3s 1ms/step - loss: 0.0232 - acc: 0.9951\n",
      "Epoch 18/50\n",
      "2040/2040 [==============================] - 3s 1ms/step - loss: 0.0282 - acc: 0.9917\n",
      "Epoch 19/50\n",
      "2040/2040 [==============================] - 3s 1ms/step - loss: 0.0212 - acc: 0.9941\n",
      "Epoch 20/50\n",
      "2040/2040 [==============================] - 3s 1ms/step - loss: 0.0160 - acc: 0.9966\n",
      "Epoch 21/50\n",
      "2040/2040 [==============================] - 3s 1ms/step - loss: 0.0135 - acc: 0.9975\n",
      "Epoch 22/50\n",
      "2040/2040 [==============================] - 3s 1ms/step - loss: 0.0119 - acc: 0.9980\n",
      "Epoch 23/50\n",
      "2040/2040 [==============================] - 3s 1ms/step - loss: 0.0109 - acc: 0.9985\n",
      "Epoch 24/50\n",
      "2040/2040 [==============================] - 3s 1ms/step - loss: 0.0098 - acc: 0.9990\n",
      "Epoch 25/50\n",
      "2040/2040 [==============================] - 3s 1ms/step - loss: 0.0092 - acc: 0.9990\n",
      "Epoch 26/50\n",
      "2040/2040 [==============================] - 3s 1ms/step - loss: 0.0161 - acc: 0.9971\n",
      "Epoch 27/50\n",
      "2040/2040 [==============================] - 3s 1ms/step - loss: 0.0728 - acc: 0.9775\n",
      "Epoch 28/50\n",
      "2040/2040 [==============================] - 3s 1ms/step - loss: 0.0226 - acc: 0.9946\n",
      "Epoch 29/50\n",
      "2040/2040 [==============================] - 3s 1ms/step - loss: 0.0233 - acc: 0.9961\n",
      "Epoch 30/50\n",
      "2040/2040 [==============================] - 3s 1ms/step - loss: 0.0131 - acc: 0.9985\n",
      "Epoch 31/50\n",
      "2040/2040 [==============================] - 3s 1ms/step - loss: 0.0107 - acc: 0.9975\n",
      "Epoch 32/50\n",
      "2040/2040 [==============================] - 2s 1ms/step - loss: 0.0079 - acc: 0.9990\n",
      "Epoch 33/50\n",
      "2040/2040 [==============================] - 3s 1ms/step - loss: 0.0072 - acc: 0.9990\n",
      "Epoch 34/50\n",
      "2040/2040 [==============================] - 2s 1ms/step - loss: 0.0066 - acc: 0.9990\n",
      "Epoch 35/50\n",
      "2040/2040 [==============================] - 2s 1ms/step - loss: 0.0059 - acc: 0.9990\n",
      "Epoch 36/50\n",
      "2040/2040 [==============================] - 3s 1ms/step - loss: 0.0055 - acc: 0.9990\n",
      "Epoch 37/50\n",
      "2040/2040 [==============================] - 3s 1ms/step - loss: 0.0051 - acc: 0.9990\n",
      "Epoch 38/50\n",
      "2040/2040 [==============================] - 3s 1ms/step - loss: 0.0048 - acc: 0.9990\n",
      "Epoch 39/50\n",
      "2040/2040 [==============================] - 3s 1ms/step - loss: 0.0044 - acc: 0.9990\n",
      "Epoch 40/50\n",
      "2040/2040 [==============================] - 3s 1ms/step - loss: 0.0040 - acc: 0.9990\n",
      "Epoch 41/50\n",
      "2040/2040 [==============================] - 3s 1ms/step - loss: 0.0037 - acc: 0.9990\n",
      "Epoch 42/50\n",
      "2040/2040 [==============================] - 3s 1ms/step - loss: 0.0037 - acc: 0.9990\n",
      "Epoch 43/50\n",
      "2040/2040 [==============================] - 3s 1ms/step - loss: 0.0032 - acc: 0.9990\n",
      "Epoch 44/50\n",
      "2040/2040 [==============================] - 3s 1ms/step - loss: 0.0029 - acc: 0.9990\n",
      "Epoch 45/50\n",
      "2040/2040 [==============================] - 3s 1ms/step - loss: 0.0029 - acc: 0.9990\n",
      "Epoch 46/50\n",
      "2040/2040 [==============================] - 2s 1ms/step - loss: 0.0026 - acc: 0.9995\n",
      "Epoch 47/50\n",
      "2040/2040 [==============================] - 3s 1ms/step - loss: 0.0025 - acc: 0.9990\n",
      "Epoch 48/50\n",
      "2040/2040 [==============================] - 3s 1ms/step - loss: 0.0022 - acc: 0.9995\n",
      "Epoch 49/50\n",
      "2040/2040 [==============================] - 3s 1ms/step - loss: 0.0021 - acc: 0.9995\n",
      "Epoch 50/50\n",
      "2040/2040 [==============================] - 3s 1ms/step - loss: 0.0020 - acc: 0.9995\n",
      "_________________________________________________________________\n",
      "Layer (type)                 Output Shape              Param #   \n",
      "=================================================================\n",
      "lstm_1 (LSTM)                (None, 30)                39720     \n",
      "_________________________________________________________________\n",
      "dense_1 (Dense)              (None, 4)                 124       \n",
      "=================================================================\n",
      "Total params: 39,844\n",
      "Trainable params: 39,844\n",
      "Non-trainable params: 0\n",
      "_________________________________________________________________\n",
      "None\n"
     ]
    }
   ],
   "source": [
    "from keras.layers import LSTM, Embedding, Dense\n",
    "from keras.models import Sequential\n",
    "\n",
    "model = Sequential()\n",
    "model.add(LSTM(30, activation='tanh'))\n",
    "model.add(Dense(4, activation = 'softmax')) # 출력층\n",
    "model.compile(loss = 'sparse_categorical_crossentropy', optimizer = 'adam', metrics = ['accuracy'])\n",
    "history = model.fit(X_train, y_train, batch_size = 42, epochs = 50)\n",
    "# batch_size는 한 번에 학습하는 데이터의 개수\n",
    "\n",
    "print(model.summary())"
   ]
  },
  {
   "cell_type": "markdown",
   "metadata": {},
   "source": [
    "## classification report"
   ]
  },
  {
   "cell_type": "code",
   "execution_count": 11,
   "metadata": {},
   "outputs": [
    {
     "name": "stdout",
     "output_type": "stream",
     "text": [
      "                                                    precision    recall  f1-score   support\n",
      "\n",
      "                                         AskFlight       0.97      0.82      0.89        39\n",
      "                      AskFlight, AskFlightWithCost       0.78      1.00      0.88       107\n",
      "                   AskFlight, AskFlightWithAirline       0.75      0.93      0.83        46\n",
      "AskFlight, AskFlightWithCost, AskFlightWithAirline       0.99      0.79      0.88       168\n",
      "\n",
      "                                          accuracy                           0.87       360\n",
      "                                         macro avg       0.87      0.89      0.87       360\n",
      "                                      weighted avg       0.90      0.87      0.87       360\n",
      "\n"
     ]
    }
   ],
   "source": [
    "from sklearn.metrics import classification_report\n",
    "from sklearn.metrics import accuracy_score\n",
    "\n",
    "y_true = y_test\n",
    "y_pred = model.predict_classes(X_test, verbose = 0)\n",
    "\n",
    "print(classification_report(y_true, y_pred, \n",
    "                            target_names = ['AskFlight', 'AskFlight, AskFlightWithCost',\n",
    "                                            'AskFlight, AskFlightWithAirline', \n",
    "                                            'AskFlight, AskFlightWithCost, AskFlightWithAirline']))"
   ]
  },
  {
   "cell_type": "code",
   "execution_count": 12,
   "metadata": {},
   "outputs": [],
   "source": [
    "def ans(lst) :\n",
    "    ans = [\"AskFlight\", \"AskFlight, AskFlightWithCost\", \n",
    "           \"AskFlight, AskFlightWithAirline\", \"AskFlight, AskFlightWithCost, AskFlightWithAirline\"]\n",
    "    temp = [[i, lst[i]] for i in range(4)]\n",
    "    temp.sort(key = lambda x : x[1], reverse = True)\n",
    "\n",
    "    print(ans[temp[0][0]])"
   ]
  },
  {
   "cell_type": "code",
   "execution_count": 13,
   "metadata": {},
   "outputs": [],
   "source": [
    "from keras.preprocessing import sequence\n",
    "\n",
    "def predict(sentence) :\n",
    "    sentence = sentence\n",
    "    sentence_token = []\n",
    "    sentence_token += word_tokenize(sentence)\n",
    "    \n",
    "    sentence_vec = []\n",
    "    sentence_vec.append([fasttext[v] for v in sentence_token])\n",
    "    \n",
    "    padd = sequence.pad_sequences(sentence_vec, maxlen = max_len, dtype = _dtype)\n",
    "    intent = ans(model.predict(padd)[0])\n",
    "    \n",
    "    return(intent)"
   ]
  },
  {
   "cell_type": "markdown",
   "metadata": {},
   "source": [
    "## save model"
   ]
  },
  {
   "cell_type": "code",
   "execution_count": 14,
   "metadata": {},
   "outputs": [],
   "source": [
    "from keras.models import *\n",
    "from keras.utils import *\n",
    "\n",
    "model.save('LSTM_model.h5')"
   ]
  },
  {
   "cell_type": "code",
   "execution_count": 15,
   "metadata": {
    "scrolled": true
   },
   "outputs": [
    {
     "name": "stdout",
     "output_type": "stream",
     "text": [
      "AskFlight\n",
      "AskFlight, AskFlightWithCost\n",
      "AskFlight, AskFlightWithCost, AskFlightWithAirline\n",
      "AskFlight, AskFlightWithCost\n",
      "AskFlight\n",
      "AskFlight, AskFlightWithCost, AskFlightWithAirline\n",
      "AskFlight, AskFlightWithCost\n"
     ]
    }
   ],
   "source": [
    "# 임의 지정한 문장으로 의도 예측 테스트\n",
    "\n",
    "predict('from la to san francisco') # AskFlight\n",
    "predict('cheapest one from miami to denver') # AskFlight, AskFlightWithCost\n",
    "predict('cheapest from denver to philadelphia on monday by delta') # AskFlight, AskFlightWithCost, AskFlightWithAirline\n",
    "predict('denver to philadelphia under 100 dollars') # AskFlight, AskFlightWithCost\n",
    "predict('flight from miami to denver on monday') # AskFlight\n",
    "predict('one way fare from miami to denver on delta') # AskFlight, AskFlightWithCost, AskFlightWithAirline\n",
    "predict('flight from incheon to jeju on monday under 50 dollars') # AskFlight, AskFlightWithCost"
   ]
  }
 ],
 "metadata": {
  "kernelspec": {
   "display_name": "Python 3",
   "language": "python",
   "name": "python3"
  },
  "language_info": {
   "codemirror_mode": {
    "name": "ipython",
    "version": 3
   },
   "file_extension": ".py",
   "mimetype": "text/x-python",
   "name": "python",
   "nbconvert_exporter": "python",
   "pygments_lexer": "ipython3",
   "version": "3.6.1"
  }
 },
 "nbformat": 4,
 "nbformat_minor": 2
}
