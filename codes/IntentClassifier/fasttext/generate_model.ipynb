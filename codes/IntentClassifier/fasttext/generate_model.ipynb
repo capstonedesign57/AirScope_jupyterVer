{
 "cells": [
  {
   "cell_type": "markdown",
   "metadata": {},
   "source": [
    "# FastText model 만들기"
   ]
  },
  {
   "cell_type": "code",
   "execution_count": 1,
   "metadata": {},
   "outputs": [],
   "source": [
    "from gensim.models import FastText"
   ]
  },
  {
   "cell_type": "code",
   "execution_count": null,
   "metadata": {},
   "outputs": [],
   "source": [
    "# wiki.en.bin 다운 경로: https://fasttext.cc/docs/en/crawl-vectors.html"
   ]
  },
  {
   "cell_type": "code",
   "execution_count": 2,
   "metadata": {},
   "outputs": [
    {
     "name": "stderr",
     "output_type": "stream",
     "text": [
      "c:\\users\\yunja_kuj61s9\\appdata\\local\\programs\\python\\python36\\lib\\site-packages\\ipykernel_launcher.py:1: DeprecationWarning: Call to deprecated `load_fasttext_format` (use load_facebook_vectors (to use pretrained embeddings) or load_facebook_model (to continue training with the loaded full model, more RAM) instead).\n",
      "  \"\"\"Entry point for launching an IPython kernel.\n",
      "c:\\users\\yunja_kuj61s9\\appdata\\local\\programs\\python\\python36\\lib\\site-packages\\smart_open\\smart_open_lib.py:398: UserWarning: This function is deprecated, use smart_open.open instead. See the migration notes for details: https://github.com/RaRe-Technologies/smart_open/blob/master/README.rst#migrating-to-the-new-open-function\n",
      "  'See the migration notes for details: %s' % _MIGRATION_NOTES_URL\n",
      "c:\\users\\yunja_kuj61s9\\appdata\\local\\programs\\python\\python36\\lib\\site-packages\\gensim\\models\\base_any2vec.py:743: UserWarning: C extension not loaded, training will be slow. Install a C compiler and reinstall gensim for fast training.\n",
      "  \"C extension not loaded, training will be slow. \"\n"
     ]
    }
   ],
   "source": [
    "model = FastText.load_fasttext_format('./wiki.en.bin')"
   ]
  },
  {
   "cell_type": "code",
   "execution_count": 3,
   "metadata": {},
   "outputs": [
    {
     "name": "stderr",
     "output_type": "stream",
     "text": [
      "c:\\users\\yunja_kuj61s9\\appdata\\local\\programs\\python\\python36\\lib\\site-packages\\smart_open\\smart_open_lib.py:398: UserWarning: This function is deprecated, use smart_open.open instead. See the migration notes for details: https://github.com/RaRe-Technologies/smart_open/blob/master/README.rst#migrating-to-the-new-open-function\n",
      "  'See the migration notes for details: %s' % _MIGRATION_NOTES_URL\n"
     ]
    }
   ],
   "source": [
    "model.save('fasttext_model')"
   ]
  },
  {
   "cell_type": "code",
   "execution_count": 4,
   "metadata": {
    "scrolled": true
   },
   "outputs": [
    {
     "name": "stderr",
     "output_type": "stream",
     "text": [
      "c:\\users\\yunja_kuj61s9\\appdata\\local\\programs\\python\\python36\\lib\\site-packages\\ipykernel_launcher.py:1: DeprecationWarning: Call to deprecated `most_similar` (Method will be removed in 4.0.0, use self.wv.most_similar() instead).\n",
      "  \"\"\"Entry point for launching an IPython kernel.\n"
     ]
    },
    {
     "name": "stdout",
     "output_type": "stream",
     "text": [
      "[('sincheon', 0.8647275567054749), ('jincheon', 0.8204793334007263), ('dongincheon', 0.8142046332359314), ('pincheon', 0.8044548630714417), ('busan', 0.7944725751876831), ('incheol', 0.7908390164375305), ('incheondaegyo', 0.770466685295105), ('mancheon', 0.7645164728164673), ('seoul', 0.7479453086853027), ('gwangju', 0.738929271697998)]\n"
     ]
    }
   ],
   "source": [
    "print(model.most_similar('incheon'))"
   ]
  },
  {
   "cell_type": "code",
   "execution_count": 5,
   "metadata": {},
   "outputs": [
    {
     "name": "stdout",
     "output_type": "stream",
     "text": [
      "[('sincheon', 0.8647275567054749), ('jincheon', 0.8204793334007263), ('dongincheon', 0.8142046332359314), ('pincheon', 0.8044548630714417), ('busan', 0.7944725751876831), ('incheol', 0.7908390164375305), ('incheondaegyo', 0.770466685295105), ('mancheon', 0.7645164728164673), ('seoul', 0.7479453086853027), ('gwangju', 0.738929271697998)]\n"
     ]
    }
   ],
   "source": [
    "print(model.wv.most_similar('incheon'))"
   ]
  },
  {
   "cell_type": "code",
   "execution_count": 20,
   "metadata": {
    "scrolled": true
   },
   "outputs": [
    {
     "name": "stderr",
     "output_type": "stream",
     "text": [
      "/Users/sujin/heroku_env_2/lib/python3.6/site-packages/ipykernel_launcher.py:1: DeprecationWarning: Call to deprecated `most_similar` (Method will be removed in 4.0.0, use self.wv.most_similar() instead).\n",
      "  \"\"\"Entry point for launching an IPython kernel.\n"
     ]
    },
    {
     "name": "stdout",
     "output_type": "stream",
     "text": [
      "[('teache', 0.7893729209899902), ('teacher,', 0.7844669818878174), ('teachers', 0.7713972330093384), ('teacherman', 0.7344011664390564), ('teached', 0.7318557500839233), ('teacher/pupil', 0.7292030453681946), ('teachers`', 0.7286236882209778), ('schoolteacher', 0.7279098629951477), ('teachera', 0.7274623513221741), ('‘teacher', 0.7261095643043518)]\n",
      "0.74613076\n"
     ]
    },
    {
     "name": "stderr",
     "output_type": "stream",
     "text": [
      "/Users/sujin/heroku_env_2/lib/python3.6/site-packages/ipykernel_launcher.py:2: DeprecationWarning: Call to deprecated `similarity` (Method will be removed in 4.0.0, use self.wv.similarity() instead).\n",
      "  \n",
      "/Users/sujin/heroku_env_2/lib/python3.6/site-packages/ipykernel_launcher.py:3: DeprecationWarning: Call to deprecated `most_similar` (Method will be removed in 4.0.0, use self.wv.most_similar() instead).\n",
      "  This is separate from the ipykernel package so we can avoid doing imports until\n"
     ]
    },
    {
     "name": "stdout",
     "output_type": "stream",
     "text": [
      "[('flighting', 0.7793835401535034), ('flight…', 0.7682060599327087), ('flights', 0.7548152804374695), ('flighted', 0.7452049255371094), ('flightly', 0.7300453186035156), ('—flight', 0.7278868556022644), ('flight—a', 0.7249346375465393), ('flightdeck', 0.7192178964614868), ('fligh', 0.7185845971107483), ('flighters', 0.7176028490066528)]\n"
     ]
    },
    {
     "name": "stderr",
     "output_type": "stream",
     "text": [
      "/Users/sujin/heroku_env_2/lib/python3.6/site-packages/ipykernel_launcher.py:4: DeprecationWarning: Call to deprecated `most_similar` (Method will be removed in 4.0.0, use self.wv.most_similar() instead).\n",
      "  after removing the cwd from sys.path.\n"
     ]
    },
    {
     "name": "stdout",
     "output_type": "stream",
     "text": [
      "[('sincheon', 0.8647275567054749), ('jincheon', 0.8204793334007263), ('dongincheon', 0.8142046332359314), ('pincheon', 0.8044548630714417), ('busan', 0.7944725751876831), ('incheol', 0.7908390164375305), ('incheondaegyo', 0.770466685295105), ('mancheon', 0.7645164728164673), ('seoul', 0.7479453086853027), ('gwangju', 0.738929271697998)]\n"
     ]
    }
   ],
   "source": [
    "print(model.most_similar('teacher'))\n",
    "print(model.similarity('flies', 'fly'))\n",
    "print(model.most_similar('flight'))\n",
    "print(model.most_similar('incheon'))"
   ]
  }
 ],
 "metadata": {
  "kernelspec": {
   "display_name": "Python 3",
   "language": "python",
   "name": "python3"
  },
  "language_info": {
   "codemirror_mode": {
    "name": "ipython",
    "version": 3
   },
   "file_extension": ".py",
   "mimetype": "text/x-python",
   "name": "python",
   "nbconvert_exporter": "python",
   "pygments_lexer": "ipython3",
   "version": "3.6.1"
  }
 },
 "nbformat": 4,
 "nbformat_minor": 2
}
