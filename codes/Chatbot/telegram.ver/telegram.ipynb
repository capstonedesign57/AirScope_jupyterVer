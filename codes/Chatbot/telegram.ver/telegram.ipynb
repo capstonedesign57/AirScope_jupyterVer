{
 "cells": [
  {
   "cell_type": "code",
   "execution_count": 1,
   "metadata": {},
   "outputs": [],
   "source": [
    "# https://api.telegram.org/bot682502305:AAHgR74_gRqpboE9VYFVsAOtAjZ5Tk1qtaw/deleteWebhook"
   ]
  },
  {
   "cell_type": "code",
   "execution_count": 2,
   "metadata": {},
   "outputs": [],
   "source": [
    "import telepot\n",
    "import pickle\n",
    "import sys\n",
    "import time\n",
    "import datetime\n",
    "import re"
   ]
  },
  {
   "cell_type": "code",
   "execution_count": 3,
   "metadata": {
    "scrolled": true
   },
   "outputs": [
    {
     "name": "stdout",
     "output_type": "stream",
     "text": [
      "importing Jupyter notebook from _get_intent_LSTM.ipynb\n"
     ]
    },
    {
     "name": "stderr",
     "output_type": "stream",
     "text": [
      "Using TensorFlow backend.\n",
      "c:\\users\\yunja_kuj61s9\\appdata\\local\\programs\\python\\python36\\lib\\site-packages\\smart_open\\smart_open_lib.py:398: UserWarning: This function is deprecated, use smart_open.open instead. See the migration notes for details: https://github.com/RaRe-Technologies/smart_open/blob/master/README.rst#migrating-to-the-new-open-function\n",
      "  'See the migration notes for details: %s' % _MIGRATION_NOTES_URL\n"
     ]
    },
    {
     "name": "stdout",
     "output_type": "stream",
     "text": [
      "importing Jupyter notebook from spelling_corrector.ipynb\n",
      "importing Jupyter notebook from _get_tag.ipynb\n"
     ]
    },
    {
     "name": "stderr",
     "output_type": "stream",
     "text": [
      "WARNING: Logging before flag parsing goes to stderr.\n",
      "W1214 00:54:47.226133 13432 deprecation_wrapper.py:119] From c:\\users\\yunja_kuj61s9\\appdata\\local\\programs\\python\\python36\\lib\\site-packages\\keras\\backend\\tensorflow_backend.py:517: The name tf.placeholder is deprecated. Please use tf.compat.v1.placeholder instead.\n",
      "\n",
      "W1214 00:54:48.771898 13432 deprecation_wrapper.py:119] From c:\\users\\yunja_kuj61s9\\appdata\\local\\programs\\python\\python36\\lib\\site-packages\\keras\\backend\\tensorflow_backend.py:4138: The name tf.random_uniform is deprecated. Please use tf.random.uniform instead.\n",
      "\n",
      "W1214 00:54:49.153728 13432 deprecation_wrapper.py:119] From c:\\users\\yunja_kuj61s9\\appdata\\local\\programs\\python\\python36\\lib\\site-packages\\keras\\backend\\tensorflow_backend.py:74: The name tf.get_default_graph is deprecated. Please use tf.compat.v1.get_default_graph instead.\n",
      "\n",
      "W1214 00:54:50.012673 13432 deprecation_wrapper.py:119] From c:\\users\\yunja_kuj61s9\\appdata\\local\\programs\\python\\python36\\lib\\site-packages\\keras\\backend\\tensorflow_backend.py:133: The name tf.placeholder_with_default is deprecated. Please use tf.compat.v1.placeholder_with_default instead.\n",
      "\n",
      "W1214 00:54:50.225745 13432 deprecation.py:506] From c:\\users\\yunja_kuj61s9\\appdata\\local\\programs\\python\\python36\\lib\\site-packages\\keras\\backend\\tensorflow_backend.py:3445: calling dropout (from tensorflow.python.ops.nn_ops) with keep_prob is deprecated and will be removed in a future version.\n",
      "Instructions for updating:\n",
      "Please use `rate` instead of `keep_prob`. Rate should be set to `rate = 1 - keep_prob`.\n",
      "W1214 00:54:51.241151 13432 deprecation.py:323] From c:\\users\\yunja_kuj61s9\\appdata\\local\\programs\\python\\python36\\lib\\site-packages\\keras\\backend\\tensorflow_backend.py:2974: add_dispatch_support.<locals>.wrapper (from tensorflow.python.ops.array_ops) is deprecated and will be removed in a future version.\n",
      "Instructions for updating:\n",
      "Use tf.where in 2.0, which has the same broadcast rule as np.where\n",
      "W1214 00:54:53.128142 13432 deprecation_wrapper.py:119] From c:\\users\\yunja_kuj61s9\\appdata\\local\\programs\\python\\python36\\lib\\site-packages\\keras\\backend\\tensorflow_backend.py:174: The name tf.get_default_session is deprecated. Please use tf.compat.v1.get_default_session instead.\n",
      "\n",
      "W1214 00:54:55.150999 13432 deprecation_wrapper.py:119] From c:\\users\\yunja_kuj61s9\\appdata\\local\\programs\\python\\python36\\lib\\site-packages\\keras\\optimizers.py:790: The name tf.train.Optimizer is deprecated. Please use tf.compat.v1.train.Optimizer instead.\n",
      "\n"
     ]
    },
    {
     "name": "stdout",
     "output_type": "stream",
     "text": [
      "importing Jupyter notebook from _todateformat.ipynb\n",
      "importing Jupyter notebook from mydb.ipynb\n",
      "importing Jupyter notebook from _get_view.ipynb\n"
     ]
    }
   ],
   "source": [
    "import import_ipynb\n",
    "from _get_intent_LSTM import get_intent\n",
    "from spelling_corrector import _correction\n",
    "from _get_tag import get_element, todf, ellipsis\n",
    "from mydb import getdb\n",
    "from _get_view import getroute\n",
    "from _todateformat import date as _date"
   ]
  },
  {
   "cell_type": "code",
   "execution_count": 4,
   "metadata": {},
   "outputs": [],
   "source": [
    "token = \"682502305:AAHgR74_gRqpboE9VYFVsAOtAjZ5Tk1qtaw\"\n",
    "my_id = \"729092704\"\n",
    "bot = telepot.Bot(token)\n",
    "status = True\n",
    "InfoMsg = \"WELCOME\"\n",
    "Answer = \"SEE YOU AGAIN\"\n",
    "state = 0\n",
    "flag = 9"
   ]
  },
  {
   "cell_type": "code",
   "execution_count": 5,
   "metadata": {},
   "outputs": [
    {
     "name": "stderr",
     "output_type": "stream",
     "text": [
      "Traceback (most recent call last):\n",
      "  File \"c:\\users\\yunja_kuj61s9\\appdata\\local\\programs\\python\\python36\\lib\\site-packages\\telepot\\__init__.py\", line 1158, in collector\n",
      "    callback(item)\n",
      "  File \"<ipython-input-5-ba58b5f78a0d>\", line 97, in handle\n",
      "    getroute(intent, tagged, mydb, bot, chat_id)\n",
      "  File \"<string>\", line 53, in getroute\n",
      "  File \"c:\\users\\yunja_kuj61s9\\appdata\\local\\programs\\python\\python36\\lib\\site-packages\\pymysql\\cursors.py\", line 170, in execute\n",
      "    result = self._query(query)\n",
      "  File \"c:\\users\\yunja_kuj61s9\\appdata\\local\\programs\\python\\python36\\lib\\site-packages\\pymysql\\cursors.py\", line 328, in _query\n",
      "    conn.query(q)\n",
      "  File \"c:\\users\\yunja_kuj61s9\\appdata\\local\\programs\\python\\python36\\lib\\site-packages\\pymysql\\connections.py\", line 517, in query\n",
      "    self._affected_rows = self._read_query_result(unbuffered=unbuffered)\n",
      "  File \"c:\\users\\yunja_kuj61s9\\appdata\\local\\programs\\python\\python36\\lib\\site-packages\\pymysql\\connections.py\", line 732, in _read_query_result\n",
      "    result.read()\n",
      "  File \"c:\\users\\yunja_kuj61s9\\appdata\\local\\programs\\python\\python36\\lib\\site-packages\\pymysql\\connections.py\", line 1075, in read\n",
      "    first_packet = self.connection._read_packet()\n",
      "  File \"c:\\users\\yunja_kuj61s9\\appdata\\local\\programs\\python\\python36\\lib\\site-packages\\pymysql\\connections.py\", line 684, in _read_packet\n",
      "    packet.check_error()\n",
      "  File \"c:\\users\\yunja_kuj61s9\\appdata\\local\\programs\\python\\python36\\lib\\site-packages\\pymysql\\protocol.py\", line 220, in check_error\n",
      "    err.raise_mysql_exception(self._data)\n",
      "  File \"c:\\users\\yunja_kuj61s9\\appdata\\local\\programs\\python\\python36\\lib\\site-packages\\pymysql\\err.py\", line 109, in raise_mysql_exception\n",
      "    raise errorclass(errno, errval)\n",
      "pymysql.err.ProgrammingError: (1064, \"You have an error in your SQL syntax; check the manual that corresponds to your MariaDB server version for the right syntax to use near '500000' at line 1\")\n",
      "Traceback (most recent call last):\n",
      "  File \"c:\\users\\yunja_kuj61s9\\appdata\\local\\programs\\python\\python36\\lib\\site-packages\\telepot\\__init__.py\", line 1158, in collector\n",
      "    callback(item)\n",
      "  File \"<ipython-input-5-ba58b5f78a0d>\", line 97, in handle\n",
      "    getroute(intent, tagged, mydb, bot, chat_id)\n",
      "  File \"<string>\", line 57, in getroute\n",
      "TypeError: must be str, not NoneType\n"
     ]
    },
    {
     "ename": "KeyboardInterrupt",
     "evalue": "",
     "output_type": "error",
     "traceback": [
      "\u001b[1;31m---------------------------------------------------------------------------\u001b[0m",
      "\u001b[1;31mKeyboardInterrupt\u001b[0m                         Traceback (most recent call last)",
      "\u001b[1;32m<ipython-input-5-ba58b5f78a0d>\u001b[0m in \u001b[0;36m<module>\u001b[1;34m\u001b[0m\n\u001b[0;32m    106\u001b[0m \u001b[1;33m\u001b[0m\u001b[0m\n\u001b[0;32m    107\u001b[0m \u001b[1;32mwhile\u001b[0m \u001b[0mstatus\u001b[0m \u001b[1;33m==\u001b[0m \u001b[1;32mTrue\u001b[0m\u001b[1;33m:\u001b[0m\u001b[1;33m\u001b[0m\u001b[0m\n\u001b[1;32m--> 108\u001b[1;33m     \u001b[0mtime\u001b[0m\u001b[1;33m.\u001b[0m\u001b[0msleep\u001b[0m\u001b[1;33m(\u001b[0m\u001b[1;36m10\u001b[0m\u001b[1;33m)\u001b[0m\u001b[1;33m\u001b[0m\u001b[0m\n\u001b[0m",
      "\u001b[1;31mKeyboardInterrupt\u001b[0m: "
     ]
    }
   ],
   "source": [
    "intent = None\n",
    "tagged = None\n",
    "def handle(msg):\n",
    "    global flag\n",
    "    global intent\n",
    "    global tagged\n",
    "    global eFlag # ellipsis 여부\n",
    "    global user_input\n",
    "    \n",
    "    content_type, chat_type, chat_id = telepot.glance(msg)\n",
    "\n",
    "    if msg['text'].lower() in ['hi', 'hello', 'airscope', 'hey']:\n",
    "        flag = 9\n",
    "        eFlag=0\n",
    "        \n",
    "    if flag == 9:\n",
    "        if content_type == 'text':\n",
    "            if msg['text'].lower() in ['hi', 'hello', 'airscope', 'hey']:\n",
    "                bot.sendMessage(chat_id, InfoMsg)\n",
    "                eFlag=0\n",
    "            elif msg['text'].lower() in ['bye', 'see you', 'thank you', 'thanks']:\n",
    "                bot.sendMessage(chat_id, Answer)\n",
    "                eFlag = 0\n",
    "            else:\n",
    "                if eFlag == 0:\n",
    "                    user_input = _correction(msg['text'])\n",
    "                    #bot.sendMessage(chat_id, user_input)\n",
    "                    bot.sendMessage(chat_id,\"Looking for results...\")\n",
    "                    intent = get_intent(user_input)\n",
    "                    if intent==False:\n",
    "                        bot.sendMessage(chat_id,\"Sorry, I can't answer that.\")\n",
    "                    intent = ''.join(intent)\n",
    "                    #bot.sendMessage(chat_id, intent)\n",
    "                    tagged = get_element(user_input, intent)\n",
    "                    flag = 0\n",
    "                    eFlag = 1\n",
    "                else : #ellipsis 경우\n",
    "                    second_input = msg['text']\n",
    "                    bot.sendMessage(chat_id,\"Looking for results...\")\n",
    "                    new_sent, tagged2 = ellipsis(tagged, user_input, second_input)\n",
    "                    intent2 = get_intent(new_sent)\n",
    "                    flag=7\n",
    "\n",
    "\n",
    "    if flag == 1:\n",
    "        tagged.element[1] = msg['text']\n",
    "        flag=0\n",
    "    elif flag == 2:\n",
    "        tagged.element[3] = msg['text']\n",
    "        flag=0\n",
    "    elif flag == 3:\n",
    "        date = _date(todf(msg['text']))\n",
    "        tagged.element[4]=date\n",
    "        flag=0\n",
    "    elif flag == 4:\n",
    "        tagged.element[0]=msg['text']\n",
    "        flag=0\n",
    "    elif flag == 5:\n",
    "        reply = msg['text'].lower()\n",
    "        if \"cheapest\" in reply:\n",
    "            tagged.element[7]=1\n",
    "            flag=0\n",
    "        else:\n",
    "            if reply.isdigit:\n",
    "                tagged.element[6]='\\''+re.findall('\\d+', reply)[0]+'\\''\n",
    "                flag=0\n",
    "            else:\n",
    "                bot.sendMessage(chat_id,'{}'.format(\"Sorry, I didn't get that. Below how much?\"))\n",
    "                reply=msg['text']\n",
    "                tagged.element[6]='\\''+re.findall('\\d+', reply)[0]+'\\''\n",
    "                flag=0\n",
    "    else:\n",
    "        flag=flag\n",
    "    \n",
    "    if flag == 0 :\n",
    "        # if null값 있으면 flag=1, 모두 있으면 flag=2\n",
    "        if tagged[tagged['tag'].isin(['fromloc'])].element.tolist()[0]=='':\n",
    "            bot.sendMessage(chat_id,'{}'.format(\"Where would you like to depart?\"))\n",
    "            flag = 1\n",
    "        elif tagged[tagged['tag'].isin(['toloc'])].element.tolist()[0]=='':\n",
    "            bot.sendMessage(chat_id,'{}'.format(\"Where would you want to arrive?\"))\n",
    "            flag = 2\n",
    "        elif tagged[tagged['tag'].isin(['dpttime'])].element.tolist()[0]=='' and tagged[tagged['tag'].isin(['arrtime'])].element.tolist()[0]=='':\n",
    "            bot.sendMessage(chat_id,'{}'.format(\"When do you want to depart?\"))\n",
    "            flag = 3  \n",
    "        elif 'AskFlightWithAirline' in intent and tagged[tagged['tag'].isin(['airline'])].element.tolist()[0]=='':\n",
    "                bot.sendMessage(chat_id, '{}'.format('Which airline would you like'))\n",
    "                flag = 4\n",
    "        elif 'AskFlightWithCost' in intent and tagged[tagged['tag'].isin(['cheapest'])].element.tolist()[0]==0 and tagged[tagged['tag'].isin(['cost'])].element.tolist()[0]=='':\n",
    "                bot.sendMessage(chat_id, '{}'.format(\"Do you want the cheapest flight or a ticket below a certain price?\"))\n",
    "                flag = 5\n",
    "        else: \n",
    "            flag=6\n",
    "\n",
    "    if flag==6:\n",
    "        mydb = getdb()\n",
    "        getroute(intent, tagged, mydb, bot, chat_id)\n",
    "        flag = 9\n",
    "        \n",
    "    if flag==7:\n",
    "        mydb = getdb()\n",
    "        getroute(intent2, tagged2, mydb, bot, chat_id)\n",
    "        flag = 9\n",
    "        \n",
    "bot.message_loop(handle)\n",
    "\n",
    "while status == True:\n",
    "    time.sleep(10)"
   ]
  },
  {
   "cell_type": "code",
   "execution_count": null,
   "metadata": {},
   "outputs": [],
   "source": []
  }
 ],
 "metadata": {
  "kernelspec": {
   "display_name": "Python 3",
   "language": "python",
   "name": "python3"
  },
  "language_info": {
   "codemirror_mode": {
    "name": "ipython",
    "version": 3
   },
   "file_extension": ".py",
   "mimetype": "text/x-python",
   "name": "python",
   "nbconvert_exporter": "python",
   "pygments_lexer": "ipython3",
   "version": "3.6.1"
  }
 },
 "nbformat": 4,
 "nbformat_minor": 2
}
