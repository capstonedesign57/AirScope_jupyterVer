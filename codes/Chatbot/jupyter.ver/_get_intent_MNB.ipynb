{
 "cells": [
  {
   "cell_type": "code",
   "execution_count": 2,
   "metadata": {},
   "outputs": [
    {
     "name": "stderr",
     "output_type": "stream",
     "text": [
      "Using TensorFlow backend.\n"
     ]
    }
   ],
   "source": [
    "import pickle\n",
    "from keras.models import load_model\n",
    "import keras"
   ]
  },
  {
   "cell_type": "code",
   "execution_count": 3,
   "metadata": {},
   "outputs": [],
   "source": [
    "from keras.preprocessing import sequence\n",
    "from keras.preprocessing.sequence import pad_sequences\n",
    "from nltk import sent_tokenize, word_tokenize\n",
    "from keras import backend as k"
   ]
  },
  {
   "cell_type": "code",
   "execution_count": 4,
   "metadata": {},
   "outputs": [
    {
     "name": "stderr",
     "output_type": "stream",
     "text": [
      "c:\\users\\yunja_kuj61s9\\appdata\\local\\programs\\python\\python36\\lib\\site-packages\\smart_open\\smart_open_lib.py:398: UserWarning: This function is deprecated, use smart_open.open instead. See the migration notes for details: https://github.com/RaRe-Technologies/smart_open/blob/master/README.rst#migrating-to-the-new-open-function\n",
      "  'See the migration notes for details: %s' % _MIGRATION_NOTES_URL\n"
     ]
    }
   ],
   "source": [
    "# wordvector load\n",
    "from gensim.models import FastText\n",
    "model = FastText.load('../../IntentClassifier/fasttext/fasttext_model')\n",
    "fasttext = model.wv"
   ]
  },
  {
   "cell_type": "code",
   "execution_count": 9,
   "metadata": {},
   "outputs": [],
   "source": [
    "def pred(model, sentence) :\n",
    "    sentence_token = []\n",
    "    sentence_token += word_tokenize(sentence)\n",
    "    \n",
    "    sentence_vec = []\n",
    "    sentence_vec.append([fasttext[v] for v in sentence_token])\n",
    "    _dtype = k.floatx()\n",
    "    padd = sequence.pad_sequences(sentence_vec, maxlen = 45, dtype = _dtype)\n",
    "    intent = ans(model.predict(padd)[0])\n",
    "    \n",
    "    return intent"
   ]
  },
  {
   "cell_type": "code",
   "execution_count": 10,
   "metadata": {},
   "outputs": [],
   "source": [
    "def ans(lst) :\n",
    "    ans = [\"AskFlight\", \"AskFlight, AskFlightWithCost\", \n",
    "           \"AskFlight, AskFlightWithAirline\", \"AskFlight, AskFlightWithCost, AskFlightWithAirline\"]\n",
    "    temp = [[i, lst[i]] for i in range(4)]\n",
    "    temp.sort(key = lambda x : x[1], reverse = True)\n",
    "\n",
    "    return ans[temp[0][0]]"
   ]
  },
  {
   "cell_type": "code",
   "execution_count": 11,
   "metadata": {},
   "outputs": [],
   "source": [
    "def get_intent(sent):\n",
    "    # isflight\n",
    "    filename = '../models/IC1_mnb/MNB_model_1.sav'\n",
    "    MNB_isflight = pickle.load(open(filename, 'rb'))\n",
    "    dtmvector = pickle.load(open('../models/IC1_mnb/dtmvector_1', 'rb'))\n",
    "    tfidf_transformer = pickle.load(open('../models/IC1_mnb/tfidf_transformer_1', 'rb'))\n",
    "    \n",
    "    test = []\n",
    "    test.append(sent)\n",
    "    test_dtm = dtmvector.transform(test)\n",
    "    tfidfv_test = tfidf_transformer.transform(test_dtm)\n",
    "    predict = MNB_isflight.predict(tfidfv_test)\n",
    "    \n",
    "    # 항공권 검색 질의가 아닐 경우\n",
    "    if predict=='NoFlight':\n",
    "        return False\n",
    "    \n",
    "    #항공권 검색 질의일 경우\n",
    "    # intent 4가지(flight, cost, airline, cost+airline)\n",
    "    with keras.backend.get_session().graph.as_default():\n",
    "        LSTM_intent4 = load_model('../models/IC2/LSTM_model.h5')\n",
    "        predict = pred(LSTM_intent4, sent)\n",
    "    \n",
    "    return predict"
   ]
  },
  {
   "cell_type": "code",
   "execution_count": 12,
   "metadata": {},
   "outputs": [
    {
     "data": {
      "text/plain": [
       "'AskFlight, AskFlightWithAirline'"
      ]
     },
     "execution_count": 12,
     "metadata": {},
     "output_type": "execute_result"
    }
   ],
   "source": [
    "# get_intent(\"i want a flight from incheon to jeju by korean air\")"
   ]
  },
  {
   "cell_type": "code",
   "execution_count": null,
   "metadata": {},
   "outputs": [],
   "source": []
  }
 ],
 "metadata": {
  "kernelspec": {
   "display_name": "Python 3",
   "language": "python",
   "name": "python3"
  },
  "language_info": {
   "codemirror_mode": {
    "name": "ipython",
    "version": 3
   },
   "file_extension": ".py",
   "mimetype": "text/x-python",
   "name": "python",
   "nbconvert_exporter": "python",
   "pygments_lexer": "ipython3",
   "version": "3.6.1"
  }
 },
 "nbformat": 4,
 "nbformat_minor": 2
}
