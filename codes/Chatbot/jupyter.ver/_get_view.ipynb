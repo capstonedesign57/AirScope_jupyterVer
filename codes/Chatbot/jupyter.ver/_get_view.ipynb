{
 "cells": [
  {
   "cell_type": "code",
   "execution_count": 1,
   "metadata": {},
   "outputs": [],
   "source": [
    "import pymysql\n",
    "import pandas as pd"
   ]
  },
  {
   "cell_type": "markdown",
   "metadata": {},
   "source": [
    "# based on the element tagged as *loc, search database for the iata code"
   ]
  },
  {
   "cell_type": "code",
   "execution_count": 2,
   "metadata": {},
   "outputs": [],
   "source": [
    "def get_airport(loc, db):\n",
    "    curs = db.cursor()\n",
    "    sql = \"SELECT iata FROM airports WHERE name=\\'\"+loc+\"\\' or city=\\'\"+loc+\"\\' or country=\\'\"+loc+\"\\' or iata=\\'\"+loc+\"\\'\"\n",
    "    curs.execute(sql)\n",
    "    result = curs.fetchall()\n",
    "    return result"
   ]
  },
  {
   "cell_type": "markdown",
   "metadata": {},
   "source": [
    "# based on the element tagged as airline, search database for the iata code"
   ]
  },
  {
   "cell_type": "code",
   "execution_count": 3,
   "metadata": {},
   "outputs": [],
   "source": [
    "def get_airline(airline, db):\n",
    "    curs = db.cursor()\n",
    "    sql = \"SELECT iata FROM airlines WHERE iata=\\'\"+airline+\"\\' or name LIKE \\'%\"+airline+\"%\\'\"\n",
    "    curs.execute(sql)\n",
    "    result = curs.fetchall()\n",
    "    for (a,) in result:\n",
    "        return a"
   ]
  },
  {
   "cell_type": "markdown",
   "metadata": {},
   "source": [
    "# make SQL queries according to the extracted key elements, return query result and stop information"
   ]
  },
  {
   "cell_type": "code",
   "execution_count": 4,
   "metadata": {},
   "outputs": [],
   "source": [
    "def getroute(intent, tagged, db):\n",
    "    curs = db.cursor()\n",
    "    cursor = db.cursor(pymysql.cursors.DictCursor)\n",
    "\n",
    "    # from, to, date 등 필요한 요소들 받아오기\n",
    "    fromloc = 'src_airport='\n",
    "    for (a,) in get_airport(tagged[tagged['tag'].isin(['fromloc'])].element.tolist()[0],db):\n",
    "        fromloc=fromloc+'\\''+a+'\\''+' or src_airport='\n",
    "    fromloc='('+fromloc[:-16]+')'\n",
    "\n",
    "    toloc = 'dst_airport='\n",
    "    for (a,) in get_airport(tagged[tagged['tag'].isin(['toloc'])].element.tolist()[0],db):\n",
    "        toloc=toloc+'\\''+a+'\\''+' or dst_airport='\n",
    "    toloc='('+toloc[:-16]+')'\n",
    "    \n",
    "    # stop이 있는 경우\n",
    "    if tagged[tagged['tag'].isin(['stoploc'])].element.tolist()[0]!='':\n",
    "        stoploc = 'stop_airport='\n",
    "        for (a,) in get_airport(tagged[tagged['tag'].isin(['stoploc'])].element.tolist()[0],db):\n",
    "            stoploc=stoploc+'\\''+a+'\\''+' or stop_airport='      \n",
    "        stoploc='('+stoploc[:-17]+')'\n",
    "\n",
    "    #get date\n",
    "    dpt_date = \"\\'\"+tagged[tagged['tag'].isin(['dpttime'])].element.tolist()[0]+\"\\'\"\n",
    "    arr_date = \"\\'\"+tagged[tagged['tag'].isin(['arrtime'])].element.tolist()[0]+\"\\'\"\n",
    "\n",
    "    \n",
    "    # create selectedRoute\n",
    "    sql=\"CREATE OR REPLACE VIEW selectedRoute AS \\\n",
    "        SELECT route_id, airline, airline_id, src_airport, src_name, src_city, src_country, \\\n",
    "        dst_airport, dst_name, dst_city, dst_country, stops, dpt_time, \\\n",
    "        DATE_ADD(dpt_time, INTERVAL TIME_TO_SEC(est_time) SECOND) as arr_time \\\n",
    "        FROM joinedRoute\\\n",
    "        WHERE \"+fromloc+\" AND \"+toloc+\" AND DATE(dpt_time)=\"+dpt_date\n",
    "    curs.execute(sql)\n",
    "\n",
    "    #selectedRoute에 airline_name, cost JOIN\n",
    "    sql2=\"CREATE OR REPLACE VIEW Route AS \\\n",
    "        SELECT s.*, a.name as airline_name, c.cost \\\n",
    "        FROM selectedRoute as s, airlines as a, cost as c \\\n",
    "        WHERE s.airline_id=a.airline_id AND s.route_id=c.route_id\"\n",
    "    curs.execute(sql2)\n",
    "    \n",
    "    \n",
    "    #의도별 항공권 검색 수행\n",
    "    if \"AskFlightWithAirline\" in intent and (\"AskFlightWithCost\" in intent or tagged[tagged['tag'].isin(['cost'])].element.tolist()[0]):\n",
    "        airline = get_airline(tagged[tagged['tag'].isin(['airline'])].element.tolist()[0],db)\n",
    "        if tagged[tagged['tag'].isin(['cheapest'])].element.tolist()[0]==1:\n",
    "            sql3 = \"SELECT * FROM Route WHERE airline=\\'\"+airline+\"\\' or airline_name=\\'\"+airline+\"\\' ORDER BY cost ASC\"\n",
    "        else:\n",
    "            cost=tagged[tagged['tag'].isin(['cost'])].element.tolist()[0]\n",
    "            sql3=\"SELECT * FROM Route WHERE (airline=\\'\"+airline+\"\\' or airline_name=\\'\"+airline+\"\\') and cost<=\"+cost\n",
    "        cursor.execute(sql3)\n",
    "    \n",
    "    elif \"AskFlightWithAirline\" in intent:\n",
    "        airline = get_airline(tagged[tagged['tag'].isin(['airline'])].element.tolist()[0],db)\n",
    "        sql3 = \"SELECT * FROM Route WHERE airline=\\'\"+airline+\"\\' or airline_name=\\'\"+airline+\"\\'\"\n",
    "        cursor.execute(sql3)\n",
    "        \n",
    "    elif (\"AskFlightWithCost\" in intent) or tagged[tagged['tag'].isin(['cost'])].element.tolist()[0]:\n",
    "        if tagged[tagged['tag'].isin(['cheapest'])].element.tolist()[0]==1:\n",
    "            sql3=\"SELECT * FROM Route ORDER BY cost ASC\"\n",
    "        else:\n",
    "            cost=tagged[tagged['tag'].isin(['cost'])].element.tolist()[0]\n",
    "            sql3=\"SELECT * FROM Route WHERE cost<=\"+cost\n",
    "        cursor.execute(sql3)\n",
    "    \n",
    "    else:\n",
    "        cursor.execute(\"SELECT * FROM Route\")\n",
    "        \n",
    "    #검색결과 Route을 df로 읽어오기\n",
    "    print(\"here are your results: \")\n",
    "    count = 0\n",
    "    while True :\n",
    "        result = cursor.fetchone()\n",
    "        if result == None:\n",
    "            if count == 0:\n",
    "                print(\"Oops! The flight you are looking for does not exist.\")\n",
    "            break\n",
    "        count = count+1\n",
    "        df = pd.DataFrame(result, index = [0])\n",
    "        route_id = df.iloc[0][\"route_id\"]\n",
    "        df = df[[\"airline\",\"airline_name\",\"src_name\",\"src_city\",\"src_country\",\"dst_name\",\"dst_city\",\"dst_country\",\"stops\",\"dpt_time\",\"arr_time\",\"cost\"]]\n",
    "        print(df)\n",
    "        \n",
    "        #### 경유지가 있는 경우는???\n",
    "        if df.iloc[0][8] != 0:\n",
    "            print(\"stop info:\")\n",
    "            cursor2 = db.cursor(pymysql.cursors.DictCursor)\n",
    "            stopsql = \"SELECT name, city, country, stop_order FROM stopview WHERE route_id = \"+str(route_id)\n",
    "            cursor2.execute(stopsql)\n",
    "            for i in range(df.iloc[0][\"stops\"]):\n",
    "                stop_result = cursor2.fetchone()\n",
    "                stop = pd.DataFrame(stop_result, index = [0])\n",
    "                print(stop)\n",
    "                \n",
    "        if tagged[tagged['tag'].isin(['cheapest'])].element.tolist()[0]==1:\n",
    "            break"
   ]
  },
  {
   "cell_type": "code",
   "execution_count": null,
   "metadata": {},
   "outputs": [],
   "source": []
  }
 ],
 "metadata": {
  "kernelspec": {
   "display_name": "Python 3",
   "language": "python",
   "name": "python3"
  },
  "language_info": {
   "codemirror_mode": {
    "name": "ipython",
    "version": 3
   },
   "file_extension": ".py",
   "mimetype": "text/x-python",
   "name": "python",
   "nbconvert_exporter": "python",
   "pygments_lexer": "ipython3",
   "version": "3.6.1"
  }
 },
 "nbformat": 4,
 "nbformat_minor": 2
}
